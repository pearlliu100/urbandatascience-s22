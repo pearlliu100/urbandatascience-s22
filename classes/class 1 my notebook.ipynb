{
 "cells": [
  {
   "cell_type": "markdown",
   "id": "53fce03f",
   "metadata": {},
   "source": [
    "## Week 1 Class activities\n",
    "This notebook is a starting point for the exercises and activities that we'll do in class.\n",
    "\n",
    "Before you attempt any of these activities, make sure to watch the Week 1 video lectures."
   ]
  },
  {
   "cell_type": "markdown",
   "id": "c092609b",
   "metadata": {},
   "source": [
    "### Using the `requests` library to query an API\n",
    "Here's the code that we saw in the video lecture that queries BART for real-time arrivals."
   ]
  },
  {
   "cell_type": "code",
<<<<<<< Updated upstream
   "execution_count": 45,
=======
   "execution_count": 1,
>>>>>>> Stashed changes
   "id": "89222500",
   "metadata": {},
   "outputs": [
    {
<<<<<<< Updated upstream
=======
     "name": "stdout",
     "output_type": "stream",
     "text": [
      "Trains from 12TH to Antioch\n"
     ]
    },
    {
>>>>>>> Stashed changes
     "data": {
      "text/html": [
       "<div>\n",
       "<style scoped>\n",
       "    .dataframe tbody tr th:only-of-type {\n",
       "        vertical-align: middle;\n",
       "    }\n",
       "\n",
       "    .dataframe tbody tr th {\n",
       "        vertical-align: top;\n",
       "    }\n",
       "\n",
       "    .dataframe thead th {\n",
       "        text-align: right;\n",
       "    }\n",
       "</style>\n",
       "<table border=\"1\" class=\"dataframe\">\n",
       "  <thead>\n",
       "    <tr style=\"text-align: right;\">\n",
       "      <th></th>\n",
       "      <th>minutes</th>\n",
       "      <th>platform</th>\n",
       "      <th>direction</th>\n",
       "      <th>length</th>\n",
       "      <th>color</th>\n",
       "      <th>hexcolor</th>\n",
       "      <th>bikeflag</th>\n",
       "      <th>delay</th>\n",
       "    </tr>\n",
       "  </thead>\n",
       "  <tbody>\n",
       "    <tr>\n",
       "      <th>0</th>\n",
<<<<<<< Updated upstream
       "      <td>11</td>\n",
=======
       "      <td>14</td>\n",
>>>>>>> Stashed changes
       "      <td>3</td>\n",
       "      <td>North</td>\n",
       "      <td>10</td>\n",
       "      <td>YELLOW</td>\n",
       "      <td>#ffff33</td>\n",
       "      <td>1</td>\n",
       "      <td>0</td>\n",
       "    </tr>\n",
       "    <tr>\n",
       "      <th>1</th>\n",
<<<<<<< Updated upstream
       "      <td>27</td>\n",
=======
       "      <td>29</td>\n",
>>>>>>> Stashed changes
       "      <td>3</td>\n",
       "      <td>North</td>\n",
       "      <td>10</td>\n",
       "      <td>YELLOW</td>\n",
       "      <td>#ffff33</td>\n",
       "      <td>1</td>\n",
       "      <td>0</td>\n",
       "    </tr>\n",
       "    <tr>\n",
       "      <th>2</th>\n",
<<<<<<< Updated upstream
       "      <td>41</td>\n",
       "      <td>3</td>\n",
       "      <td>North</td>\n",
       "      <td>2</td>\n",
=======
       "      <td>44</td>\n",
       "      <td>3</td>\n",
       "      <td>North</td>\n",
       "      <td>10</td>\n",
>>>>>>> Stashed changes
       "      <td>YELLOW</td>\n",
       "      <td>#ffff33</td>\n",
       "      <td>1</td>\n",
       "      <td>0</td>\n",
       "    </tr>\n",
       "  </tbody>\n",
       "</table>\n",
       "</div>"
      ],
      "text/plain": [
       "  minutes platform direction length   color hexcolor bikeflag delay\n",
<<<<<<< Updated upstream
       "0      11        3     North     10  YELLOW  #ffff33        1     0\n",
       "1      27        3     North     10  YELLOW  #ffff33        1     0\n",
       "2      41        3     North      2  YELLOW  #ffff33        1     0"
      ]
     },
     "execution_count": 45,
=======
       "0      14        3     North     10  YELLOW  #ffff33        1     0\n",
       "1      29        3     North     10  YELLOW  #ffff33        1     0\n",
       "2      44        3     North     10  YELLOW  #ffff33        1     0"
      ]
     },
     "execution_count": 1,
>>>>>>> Stashed changes
     "metadata": {},
     "output_type": "execute_result"
    }
   ],
   "source": [
    "import json\n",
    "import pandas as pd\n",
    "import requests\n",
    "\n",
    "APIkey = 'MW9S-E7SL-26DU-VV8V'  # the key posted on BART's website\n",
    "station = '12TH'\n",
    "requestString = 'http://api.bart.gov/api/etd.aspx?cmd=etd&orig={}&json=y&key={}'.format(station, APIkey)\n",
    "r = requests.get(requestString)\n",
    "d = json.loads(r.text)\n",
    "etd = d['root']['station'][0]['etd']\n",
<<<<<<< Updated upstream
    "# print('Trains from {} to {}'.format(station, etd[0]['destination']))\n",
=======
    "print('Trains from {} to {}'.format(station, etd[0]['destination']))\n",
>>>>>>> Stashed changes
    "df = pd.DataFrame(etd[0]['estimate'])\n",
    "df"
   ]
  },
  {
   "cell_type": "markdown",
   "id": "5e6d730d",
   "metadata": {},
   "source": [
    "<div class=\"alert alert-block alert-info\">\n",
    "<strong>Exercise:</strong> Explore the different objects. What are <strong>r</strong>, <strong>d</strong>, and <strong>etd</strong>. What can you do with them?\n",
    "</div>"
   ]
  },
  {
   "cell_type": "markdown",
   "id": "77669ec3",
   "metadata": {},
   "source": [
    "Hint: Use `type()` to find out the type of an object (e.g. `type(r)`), and `?` to pull up the help screen (e.g. `r?`).\n",
    "\n",
    "You can also tab autocomplete to discover an object's attributes and methods (e.g. `r.` and then `TAB`). "
   ]
  },
  {
   "cell_type": "code",
   "execution_count": 2,
   "id": "af29ac85",
   "metadata": {},
   "outputs": [],
   "source": [
    "# your code here\n",
    "r?"
   ]
  },
  {
   "cell_type": "markdown",
   "id": "98e25862",
   "metadata": {},
   "source": [
    "Now let's explore the other options and API commands that BART offers. \n",
    "\n",
    "The API documentation for the `etd` (real-time information) command is [here](https://api.bart.gov/docs/etd/etd.aspx). "
   ]
  },
  {
   "cell_type": "markdown",
   "id": "19e3f6d0",
   "metadata": {},
   "source": [
    "<div class=\"alert alert-block alert-info\">\n",
    "<strong>Exercise:</strong> Write a command to retrieve real-time departures for southbound trains at Civic Center station (code: CIVC). Hint: You'll need to add another <strong>&</strong> to <strong>requestString</strong>.\n",
    "</div>"
   ]
  },
  {
   "cell_type": "code",
   "execution_count": 5,
   "id": "9f8705a1",
   "metadata": {},
   "outputs": [
    {
     "name": "stdout",
     "output_type": "stream",
     "text": [
      "Trains from CIVC to Daly City\n"
     ]
    },
    {
     "data": {
      "text/html": [
       "<div>\n",
       "<style scoped>\n",
       "    .dataframe tbody tr th:only-of-type {\n",
       "        vertical-align: middle;\n",
       "    }\n",
       "\n",
       "    .dataframe tbody tr th {\n",
       "        vertical-align: top;\n",
       "    }\n",
       "\n",
       "    .dataframe thead th {\n",
       "        text-align: right;\n",
       "    }\n",
       "</style>\n",
       "<table border=\"1\" class=\"dataframe\">\n",
       "  <thead>\n",
       "    <tr style=\"text-align: right;\">\n",
       "      <th></th>\n",
       "      <th>minutes</th>\n",
       "      <th>platform</th>\n",
       "      <th>direction</th>\n",
       "      <th>length</th>\n",
       "      <th>color</th>\n",
       "      <th>hexcolor</th>\n",
       "      <th>bikeflag</th>\n",
       "      <th>delay</th>\n",
       "    </tr>\n",
       "  </thead>\n",
       "  <tbody>\n",
       "    <tr>\n",
       "      <th>0</th>\n",
       "      <td>5</td>\n",
       "      <td>1</td>\n",
       "      <td>South</td>\n",
       "      <td>10</td>\n",
       "      <td>GREEN</td>\n",
       "      <td>#339933</td>\n",
       "      <td>1</td>\n",
       "      <td>0</td>\n",
       "    </tr>\n",
       "    <tr>\n",
       "      <th>1</th>\n",
       "      <td>15</td>\n",
       "      <td>1</td>\n",
       "      <td>South</td>\n",
       "      <td>8</td>\n",
       "      <td>BLUE</td>\n",
       "      <td>#0099cc</td>\n",
       "      <td>1</td>\n",
       "      <td>130</td>\n",
       "    </tr>\n",
       "    <tr>\n",
       "      <th>2</th>\n",
       "      <td>20</td>\n",
       "      <td>1</td>\n",
       "      <td>South</td>\n",
       "      <td>10</td>\n",
       "      <td>GREEN</td>\n",
       "      <td>#339933</td>\n",
       "      <td>1</td>\n",
       "      <td>0</td>\n",
       "    </tr>\n",
       "  </tbody>\n",
       "</table>\n",
       "</div>"
      ],
      "text/plain": [
       "  minutes platform direction length  color hexcolor bikeflag delay\n",
       "0       5        1     South     10  GREEN  #339933        1     0\n",
       "1      15        1     South      8   BLUE  #0099cc        1   130\n",
       "2      20        1     South     10  GREEN  #339933        1     0"
      ]
     },
     "execution_count": 5,
     "metadata": {},
     "output_type": "execute_result"
    }
   ],
   "source": [
    "# your code here\n",
    "APIkey = 'MW9S-E7SL-26DU-VV8V'  # the key posted on BART's website\n",
    "station = 'CIVC'\n",
    "requestString = 'http://api.bart.gov/api/etd.aspx?cmd=etd&orig={}&json=y&key={}&dir=s'.format(station, APIkey)\n",
    "r = requests.get(requestString)\n",
    "d = json.loads(r.text)\n",
    "etd = d['root']['station'][0]['etd']\n",
    "print('Trains from {} to {}'.format(station, etd[0]['destination']))\n",
    "df = pd.DataFrame(etd[0]['estimate'])\n",
    "df"
   ]
  },
  {
   "cell_type": "markdown",
   "id": "dd5bdf82",
   "metadata": {},
   "source": [
    "<div class=\"alert alert-block alert-info\">\n",
    "    <strong>Exercise:</strong> Use the <strong>elev</strong> command to obtain the elevator status at each station, and put it in a dataframe. Optional extension: pass the parameters as a dictionary to requests, as we saw in the video lecture."
   ]
  },
  {
   "cell_type": "markdown",
   "id": "1489bc0c",
   "metadata": {},
   "source": [
    "See the API docs [here](https://api.bart.gov/docs/bsa/elev.aspx) for details of that command."
   ]
  },
  {
   "cell_type": "code",
   "execution_count": 23,
   "id": "806158ab",
   "metadata": {},
   "outputs": [
    {
     "data": {
      "text/plain": [
       "{'?xml': {'@version': '1.0', '@encoding': 'utf-8'},\n",
       " 'root': {'@id': '1',\n",
       "  'uri': {'#cdata-section': 'http://api.bart.gov/api/bsa.aspx?cmd=elev&json=y'},\n",
       "  'date': '03/30/2022',\n",
       "  'time': '11:11:20 AM PDT',\n",
       "  'bsa': [{'@id': '03301112',\n",
       "    'station': 'BART',\n",
       "    'type': 'ELEVATOR',\n",
       "    'description': {'#cdata-section': 'There are 2 elevators out of service at this time: COLS: Platform; MLBR: Street'},\n",
       "    'sms_text': {'#cdata-section': '2 elevs out of svc: COLS: plat; MLBR: street'},\n",
       "    'posted': '',\n",
       "    'expires': ''}],\n",
       "  'message': ''}}"
      ]
     },
     "execution_count": 23,
     "metadata": {},
     "output_type": "execute_result"
    }
   ],
   "source": [
    "# your code here\n",
    "APIkey = 'MW9S-E7SL-26DU-VV8V'  # the key posted on BART's website\n",
    "station = 'CIVC'\n",
    "requestString = 'http://api.bart.gov/api/bsa.aspx?cmd=elev&json=y&key={}'.format(APIkey)\n",
    "r = requests.get(requestString)\n",
    "d = json.loads(r.text)\n",
    "d\n"
   ]
  },
  {
   "cell_type": "markdown",
   "id": "eb62fb82",
   "metadata": {},
   "source": [
    "### Accessing census data\n",
    "\n",
    "Recall that we have seen two ways to access census data:\n",
    "* The Census Bureau API\n",
    "* The `cenpy` library\n",
    "\n",
    "Let's try them both and map patterns of race for Los Angeles County. \n",
    "\n",
    "Here's the relevant code that we saw in the video lecture to get the 5-year ACS estimates for population (table `B00001_001E`)."
   ]
  },
  {
   "cell_type": "code",
   "execution_count": 15,
   "id": "bd1a70c8",
   "metadata": {},
   "outputs": [
    {
     "data": {
      "text/html": [
       "<div>\n",
       "<style scoped>\n",
       "    .dataframe tbody tr th:only-of-type {\n",
       "        vertical-align: middle;\n",
       "    }\n",
       "\n",
       "    .dataframe tbody tr th {\n",
       "        vertical-align: top;\n",
       "    }\n",
       "\n",
       "    .dataframe thead th {\n",
       "        text-align: right;\n",
       "    }\n",
       "</style>\n",
       "<table border=\"1\" class=\"dataframe\">\n",
       "  <thead>\n",
       "    <tr style=\"text-align: right;\">\n",
       "      <th></th>\n",
       "      <th>B00001_001E</th>\n",
       "      <th>state</th>\n",
       "      <th>county</th>\n",
       "    </tr>\n",
       "  </thead>\n",
       "  <tbody>\n",
       "    <tr>\n",
       "      <th>0</th>\n",
       "      <td>592</td>\n",
       "      <td>48</td>\n",
       "      <td>075</td>\n",
       "    </tr>\n",
       "    <tr>\n",
       "      <th>1</th>\n",
       "      <td>7108</td>\n",
       "      <td>48</td>\n",
       "      <td>091</td>\n",
       "    </tr>\n",
       "    <tr>\n",
       "      <th>2</th>\n",
       "      <td>2401</td>\n",
       "      <td>48</td>\n",
       "      <td>225</td>\n",
       "    </tr>\n",
       "    <tr>\n",
       "      <th>3</th>\n",
       "      <td>5409</td>\n",
       "      <td>48</td>\n",
       "      <td>349</td>\n",
       "    </tr>\n",
       "    <tr>\n",
       "      <th>4</th>\n",
       "      <td>1502</td>\n",
       "      <td>48</td>\n",
       "      <td>415</td>\n",
       "    </tr>\n",
       "  </tbody>\n",
       "</table>\n",
       "</div>"
      ],
      "text/plain": [
       "  B00001_001E state county\n",
       "0         592    48    075\n",
       "1        7108    48    091\n",
       "2        2401    48    225\n",
       "3        5409    48    349\n",
       "4        1502    48    415"
      ]
     },
     "execution_count": 15,
     "metadata": {},
     "output_type": "execute_result"
    }
   ],
   "source": [
    "import json\n",
    "import requests\n",
    "import pandas as pd\n",
    "\n",
    "r = requests.get('https://api.census.gov/data/2015/acs/acs5?get=B00001_001E&for=county')\n",
    "censusdata = r.json()\n",
    "df = pd.DataFrame(censusdata[1:], columns=censusdata[0])\n",
    "df.head()"
   ]
  },
  {
   "cell_type": "markdown",
   "id": "f7e05635",
   "metadata": {},
   "source": [
    "<div class=\"alert alert-block alert-info\">\n",
    "<strong>Exercise:</strong> Retrieve population data at the census tract level for LA County, and put it in a pandas dataframe. (You can use the 5-year ACS if you like.)\n",
    "</div>"
   ]
  },
  {
   "cell_type": "markdown",
   "id": "c28d9352",
   "metadata": {},
   "source": [
    "Some examples are given [here](https://api.census.gov/data/2015/acs/acs5/examples.html). \n",
    "\n",
    "Note that you don't need the API key for a small number of queries, so you can delete `&key=YOUR_KEY_GOES_HERE` from the examples. \n",
    "\n",
    "The FIPS code for California is `06` and for Los Angeles County `037`."
   ]
  },
  {
   "cell_type": "code",
   "execution_count": 25,
   "id": "2ab4a446",
   "metadata": {},
   "outputs": [
    {
     "data": {
      "text/html": [
       "<div>\n",
       "<style scoped>\n",
       "    .dataframe tbody tr th:only-of-type {\n",
       "        vertical-align: middle;\n",
       "    }\n",
       "\n",
       "    .dataframe tbody tr th {\n",
       "        vertical-align: top;\n",
       "    }\n",
       "\n",
       "    .dataframe thead th {\n",
       "        text-align: right;\n",
       "    }\n",
       "</style>\n",
       "<table border=\"1\" class=\"dataframe\">\n",
       "  <thead>\n",
       "    <tr style=\"text-align: right;\">\n",
       "      <th></th>\n",
       "      <th>NAME</th>\n",
       "      <th>B00001_001E</th>\n",
       "      <th>state</th>\n",
       "      <th>county</th>\n",
       "      <th>tract</th>\n",
       "    </tr>\n",
       "  </thead>\n",
       "  <tbody>\n",
       "    <tr>\n",
       "      <th>0</th>\n",
       "      <td>Census Tract 5301.02, Los Angeles County, Cali...</td>\n",
       "      <td>422</td>\n",
       "      <td>06</td>\n",
       "      <td>037</td>\n",
       "      <td>530102</td>\n",
       "    </tr>\n",
       "    <tr>\n",
       "      <th>1</th>\n",
       "      <td>Census Tract 1046.10, Los Angeles County, Cali...</td>\n",
       "      <td>436</td>\n",
       "      <td>06</td>\n",
       "      <td>037</td>\n",
       "      <td>104610</td>\n",
       "    </tr>\n",
       "    <tr>\n",
       "      <th>2</th>\n",
       "      <td>Census Tract 1065.10, Los Angeles County, Cali...</td>\n",
       "      <td>420</td>\n",
       "      <td>06</td>\n",
       "      <td>037</td>\n",
       "      <td>106510</td>\n",
       "    </tr>\n",
       "    <tr>\n",
       "      <th>3</th>\n",
       "      <td>Census Tract 1066.41, Los Angeles County, Cali...</td>\n",
       "      <td>341</td>\n",
       "      <td>06</td>\n",
       "      <td>037</td>\n",
       "      <td>106641</td>\n",
       "    </tr>\n",
       "    <tr>\n",
       "      <th>4</th>\n",
       "      <td>Census Tract 1132.13, Los Angeles County, Cali...</td>\n",
       "      <td>398</td>\n",
       "      <td>06</td>\n",
       "      <td>037</td>\n",
       "      <td>113213</td>\n",
       "    </tr>\n",
       "  </tbody>\n",
       "</table>\n",
       "</div>"
      ],
      "text/plain": [
       "                                                NAME B00001_001E state county  \\\n",
       "0  Census Tract 5301.02, Los Angeles County, Cali...         422    06    037   \n",
       "1  Census Tract 1046.10, Los Angeles County, Cali...         436    06    037   \n",
       "2  Census Tract 1065.10, Los Angeles County, Cali...         420    06    037   \n",
       "3  Census Tract 1066.41, Los Angeles County, Cali...         341    06    037   \n",
       "4  Census Tract 1132.13, Los Angeles County, Cali...         398    06    037   \n",
       "\n",
       "    tract  \n",
       "0  530102  \n",
       "1  104610  \n",
       "2  106510  \n",
       "3  106641  \n",
       "4  113213  "
      ]
     },
     "execution_count": 25,
     "metadata": {},
     "output_type": "execute_result"
    }
   ],
   "source": [
    "# your code here\n",
    "r = requests.get('https://api.census.gov/data/2015/acs/acs5?get=NAME,B00001_001E&for=tract:*&in=state:06&in=county:037')\n",
    "censusdata = r.json()\n",
    "df = pd.DataFrame(censusdata[1:], columns=censusdata[0])\n",
    "df.head()"
   ]
  },
  {
   "cell_type": "markdown",
   "id": "52eb7f94",
   "metadata": {},
   "source": [
    "<div class=\"alert alert-block alert-info\">\n",
    "<strong>Exercise:</strong> Retrieve the census data for race/ethnicity for tracts in Los Angeles county, and put it in a pandas dataframe. \n",
    "</div>"
   ]
  },
  {
   "cell_type": "markdown",
   "id": "f80478ac",
   "metadata": {},
   "source": [
    "Hints:\n",
    "* The list of tables is [here](https://api.census.gov/data/2015/acs/acs5/variables.html).\n",
    "* The data is crosstabulated by race and age and gender. If you just want race/ethnicity, then look at the `Estimate!!Total:` tables. For example, `B01001H_001E` gives the total number of non-Hispanic white people, without further disaggregating by gender and age. \n",
    "* Start with the simplest measure of race. For example, you could calculate the proportion of Black people or non-Hispanic white people in each census tract, by dividing the relevant table by the total population (which you already retrieved above).\n",
    "* You can request multiple tables at once - just separate them with commas. For example, `get=NAME,B00001_001E,B01001H_001E`.\n"
   ]
  },
  {
   "cell_type": "code",
   "execution_count": 34,
   "id": "a5fa97cb",
   "metadata": {},
   "outputs": [
    {
     "data": {
      "text/html": [
       "<div>\n",
       "<style scoped>\n",
       "    .dataframe tbody tr th:only-of-type {\n",
       "        vertical-align: middle;\n",
       "    }\n",
       "\n",
       "    .dataframe tbody tr th {\n",
       "        vertical-align: top;\n",
       "    }\n",
       "\n",
       "    .dataframe thead th {\n",
       "        text-align: right;\n",
       "    }\n",
       "</style>\n",
       "<table border=\"1\" class=\"dataframe\">\n",
       "  <thead>\n",
       "    <tr style=\"text-align: right;\">\n",
       "      <th></th>\n",
       "      <th>NAME</th>\n",
       "      <th>B01001_001E</th>\n",
       "      <th>B01001A_001E</th>\n",
       "      <th>state</th>\n",
       "      <th>county</th>\n",
       "      <th>tract</th>\n",
       "    </tr>\n",
       "  </thead>\n",
       "  <tbody>\n",
       "    <tr>\n",
       "      <th>0</th>\n",
       "      <td>Census Tract 5301.02, Los Angeles County, Cali...</td>\n",
       "      <td>5308</td>\n",
       "      <td>4013</td>\n",
       "      <td>06</td>\n",
       "      <td>037</td>\n",
       "      <td>530102</td>\n",
       "    </tr>\n",
       "    <tr>\n",
       "      <th>1</th>\n",
       "      <td>Census Tract 1046.10, Los Angeles County, Cali...</td>\n",
       "      <td>3385</td>\n",
       "      <td>2311</td>\n",
       "      <td>06</td>\n",
       "      <td>037</td>\n",
       "      <td>104610</td>\n",
       "    </tr>\n",
       "    <tr>\n",
       "      <th>2</th>\n",
       "      <td>Census Tract 1065.10, Los Angeles County, Cali...</td>\n",
       "      <td>5151</td>\n",
       "      <td>3585</td>\n",
       "      <td>06</td>\n",
       "      <td>037</td>\n",
       "      <td>106510</td>\n",
       "    </tr>\n",
       "    <tr>\n",
       "      <th>3</th>\n",
       "      <td>Census Tract 1066.41, Los Angeles County, Cali...</td>\n",
       "      <td>2145</td>\n",
       "      <td>1528</td>\n",
       "      <td>06</td>\n",
       "      <td>037</td>\n",
       "      <td>106641</td>\n",
       "    </tr>\n",
       "    <tr>\n",
       "      <th>4</th>\n",
       "      <td>Census Tract 1132.13, Los Angeles County, Cali...</td>\n",
       "      <td>4714</td>\n",
       "      <td>2761</td>\n",
       "      <td>06</td>\n",
       "      <td>037</td>\n",
       "      <td>113213</td>\n",
       "    </tr>\n",
       "  </tbody>\n",
       "</table>\n",
       "</div>"
      ],
      "text/plain": [
       "                                                NAME B01001_001E B01001A_001E  \\\n",
       "0  Census Tract 5301.02, Los Angeles County, Cali...        5308         4013   \n",
       "1  Census Tract 1046.10, Los Angeles County, Cali...        3385         2311   \n",
       "2  Census Tract 1065.10, Los Angeles County, Cali...        5151         3585   \n",
       "3  Census Tract 1066.41, Los Angeles County, Cali...        2145         1528   \n",
       "4  Census Tract 1132.13, Los Angeles County, Cali...        4714         2761   \n",
       "\n",
       "  state county   tract  \n",
       "0    06    037  530102  \n",
       "1    06    037  104610  \n",
       "2    06    037  106510  \n",
       "3    06    037  106641  \n",
       "4    06    037  113213  "
      ]
     },
     "execution_count": 34,
     "metadata": {},
     "output_type": "execute_result"
    }
   ],
   "source": [
    "# your code here\n",
    "#sexbyage #whitealone\n",
    "r = requests.get('https://api.census.gov/data/2015/acs/acs5?get=NAME,B01001_001E,B01001A_001E&for=tract:*&in=state:06&in=county:037')\n",
    "censusdata = r.json()\n",
    "df = pd.DataFrame(censusdata[1:], columns=censusdata[0])\n",
    "#df.info\n",
    "\n",
    "#df['Pct Female']=pd.to_numeric('B01001_026E')/pd.to_numeric('B00001_001E')\n",
    "df.head()\n"
   ]
  },
  {
   "cell_type": "markdown",
   "id": "dd44cdb0",
   "metadata": {},
   "source": [
    "<div class=\"alert alert-block alert-info\">\n",
    "    <strong>Exercise:</strong> Now do the same using <strong>cenpy</strong>.\n",
    "</div>"
   ]
  },
  {
   "cell_type": "markdown",
   "id": "9b9c37b6",
   "metadata": {},
   "source": [
    "Here's the relevant example from the lecture. Note if you want multiple variables, you can pass them as a list. For example: `variables=['B25035_001E','B01001H_001E']`.\n"
   ]
  },
  {
   "cell_type": "code",
   "execution_count": 32,
   "id": "d733a7a1",
   "metadata": {},
   "outputs": [
    {
     "name": "stderr",
     "output_type": "stream",
     "text": [
      "/Users/pearlliu100/opt/anaconda3/envs/uds/lib/python3.8/site-packages/pyproj/crs/crs.py:131: FutureWarning: '+init=<authority>:<code>' syntax is deprecated. '<authority>:<code>' is the preferred initialization method. When making the change, be mindful of axis order changes: https://pyproj4.github.io/pyproj/stable/gotchas.html#axis-order-changes-in-proj-6\n",
      "  in_crs_string = _prepare_from_proj_string(in_crs_string)\n",
      "/Users/pearlliu100/opt/anaconda3/envs/uds/lib/python3.8/site-packages/pyproj/crs/crs.py:131: FutureWarning: '+init=<authority>:<code>' syntax is deprecated. '<authority>:<code>' is the preferred initialization method. When making the change, be mindful of axis order changes: https://pyproj4.github.io/pyproj/stable/gotchas.html#axis-order-changes-in-proj-6\n",
      "  in_crs_string = _prepare_from_proj_string(in_crs_string)\n",
      "/Users/pearlliu100/opt/anaconda3/envs/uds/lib/python3.8/site-packages/cenpy/products.py:762: FutureWarning: The `op` parameter is deprecated and will be removed in a future release. Please use the `predicate` parameter instead.\n",
      "  return self._from_name(county, variables, level, \"Counties\", **kwargs)\n"
     ]
    },
    {
     "data": {
      "text/html": [
       "<div>\n",
       "<style scoped>\n",
       "    .dataframe tbody tr th:only-of-type {\n",
       "        vertical-align: middle;\n",
       "    }\n",
       "\n",
       "    .dataframe tbody tr th {\n",
       "        vertical-align: top;\n",
       "    }\n",
       "\n",
       "    .dataframe thead th {\n",
       "        text-align: right;\n",
       "    }\n",
       "</style>\n",
       "<table border=\"1\" class=\"dataframe\">\n",
       "  <thead>\n",
       "    <tr style=\"text-align: right;\">\n",
       "      <th></th>\n",
       "      <th>GEOID</th>\n",
       "      <th>geometry</th>\n",
       "      <th>B25035_001E</th>\n",
       "      <th>NAME</th>\n",
       "      <th>state</th>\n",
       "      <th>county</th>\n",
       "      <th>tract</th>\n",
       "    </tr>\n",
       "  </thead>\n",
       "  <tbody>\n",
       "    <tr>\n",
       "      <th>0</th>\n",
       "      <td>06065041904</td>\n",
       "      <td>POLYGON ((-13099280.410 4011347.460, -13099235...</td>\n",
       "      <td>1980.0</td>\n",
       "      <td>Census Tract 419.04, Riverside County, California</td>\n",
       "      <td>06</td>\n",
       "      <td>065</td>\n",
       "      <td>041904</td>\n",
       "    </tr>\n",
       "    <tr>\n",
       "      <th>1</th>\n",
       "      <td>06065041806</td>\n",
       "      <td>POLYGON ((-13090448.870 4008279.130, -13090446...</td>\n",
       "      <td>1995.0</td>\n",
       "      <td>Census Tract 418.06, Riverside County, California</td>\n",
       "      <td>06</td>\n",
       "      <td>065</td>\n",
       "      <td>041806</td>\n",
       "    </tr>\n",
       "    <tr>\n",
       "      <th>2</th>\n",
       "      <td>06065040808</td>\n",
       "      <td>POLYGON ((-13089707.820 4014799.500, -13089688...</td>\n",
       "      <td>1987.0</td>\n",
       "      <td>Census Tract 408.08, Riverside County, California</td>\n",
       "      <td>06</td>\n",
       "      <td>065</td>\n",
       "      <td>040808</td>\n",
       "    </tr>\n",
       "    <tr>\n",
       "      <th>3</th>\n",
       "      <td>06065046601</td>\n",
       "      <td>POLYGON ((-13089190.190 4017589.480, -13089189...</td>\n",
       "      <td>1995.0</td>\n",
       "      <td>Census Tract 466.01, Riverside County, California</td>\n",
       "      <td>06</td>\n",
       "      <td>065</td>\n",
       "      <td>046601</td>\n",
       "    </tr>\n",
       "    <tr>\n",
       "      <th>4</th>\n",
       "      <td>06065040816</td>\n",
       "      <td>POLYGON ((-13084376.060 4015407.040, -13084371...</td>\n",
       "      <td>1995.0</td>\n",
       "      <td>Census Tract 408.16, Riverside County, California</td>\n",
       "      <td>06</td>\n",
       "      <td>065</td>\n",
       "      <td>040816</td>\n",
       "    </tr>\n",
       "  </tbody>\n",
       "</table>\n",
       "</div>"
      ],
      "text/plain": [
       "         GEOID                                           geometry  \\\n",
       "0  06065041904  POLYGON ((-13099280.410 4011347.460, -13099235...   \n",
       "1  06065041806  POLYGON ((-13090448.870 4008279.130, -13090446...   \n",
       "2  06065040808  POLYGON ((-13089707.820 4014799.500, -13089688...   \n",
       "3  06065046601  POLYGON ((-13089190.190 4017589.480, -13089189...   \n",
       "4  06065040816  POLYGON ((-13084376.060 4015407.040, -13084371...   \n",
       "\n",
       "   B25035_001E                                               NAME state  \\\n",
       "0       1980.0  Census Tract 419.04, Riverside County, California    06   \n",
       "1       1995.0  Census Tract 418.06, Riverside County, California    06   \n",
       "2       1987.0  Census Tract 408.08, Riverside County, California    06   \n",
       "3       1995.0  Census Tract 466.01, Riverside County, California    06   \n",
       "4       1995.0  Census Tract 408.16, Riverside County, California    06   \n",
       "\n",
       "  county   tract  \n",
       "0    065  041904  \n",
       "1    065  041806  \n",
       "2    065  040808  \n",
       "3    065  046601  \n",
       "4    065  040816  "
      ]
     },
     "execution_count": 32,
     "metadata": {},
     "output_type": "execute_result"
    }
   ],
   "source": [
    "import cenpy\n",
    "from cenpy import products\n",
    "\n",
    "# create a connection to the American Community Survey\n",
    "acs = cenpy.products.ACS()\n",
    "riverside = products.ACS(2017).from_county('Riverside, CA', level='tract',\n",
    "                                        variables='B25035_001E')\n",
    "riverside.head()"
   ]
  },
  {
   "cell_type": "code",
   "execution_count": null,
   "id": "6b99d49b",
   "metadata": {},
   "outputs": [],
   "source": [
    "# your code here\n",
    "variables=['B25035_001E','B01001H_001E'].\n"
   ]
  },
  {
   "cell_type": "markdown",
   "id": "fc824310",
   "metadata": {},
   "source": [
    "<div class=\"alert alert-block alert-info\">\n",
    "<strong>Exercise:</strong> Can you write a function that retrieves population by race for all census tracts in a specified county? (Or a simplified measure of race, such as the proportion of Black people.) \n",
    "</div>"
   ]
  },
  {
   "cell_type": "markdown",
   "id": "375585a8",
   "metadata": {},
   "source": [
    "Hint: use the code you wrote, but replace the county FIPS code `037` with a variable. Your function can take a single argument, e.g. `countyFIPS`."
   ]
  },
  {
   "cell_type": "code",
   "execution_count": null,
   "id": "dd45dee4",
   "metadata": {},
   "outputs": [],
   "source": [
    "# your code here"
   ]
  },
  {
   "cell_type": "markdown",
   "id": "9bcf1b0e",
   "metadata": {},
   "source": [
    "<div class=\"alert alert-block alert-info\">\n",
    "<strong>Exercise:</strong> Map your results!\n",
    "</div>"
   ]
  },
  {
   "cell_type": "code",
   "execution_count": null,
   "id": "38778d45",
   "metadata": {},
   "outputs": [],
   "source": [
    "# your code here"
   ]
  },
  {
   "cell_type": "markdown",
   "id": "95a6407c",
   "metadata": {},
   "source": [
    "### Using Socrata"
   ]
  },
  {
   "cell_type": "markdown",
   "id": "13f01449",
   "metadata": {},
   "source": [
    "Here's the example that we saw in the lecture."
   ]
  },
  {
   "cell_type": "code",
<<<<<<< Updated upstream
   "execution_count": 35,
   "id": "85c14749",
   "metadata": {},
   "outputs": [
    {
     "data": {
      "text/plain": [
       "<AxesSubplot:>"
      ]
     },
     "execution_count": 35,
     "metadata": {},
     "output_type": "execute_result"
    },
    {
     "data": {
      "image/png": "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\n",
      "text/plain": [
       "<Figure size 432x288 with 1 Axes>"
      ]
     },
     "metadata": {
      "needs_background": "light"
     },
     "output_type": "display_data"
    }
   ],
=======
   "execution_count": null,
   "id": "85c14749",
   "metadata": {},
   "outputs": [],
>>>>>>> Stashed changes
   "source": [
    "import geopandas as gpd\n",
    "url = 'https://data.lacity.org/resource/mymu-zi3s.geojson'\n",
    "gdf = gpd.read_file(url)\n",
    "gdf.plot()"
   ]
  },
  {
   "cell_type": "markdown",
   "id": "e7dcb1a3",
   "metadata": {},
   "source": [
    "<div class=\"alert alert-block alert-info\">\n",
    "<strong>Exercise:</strong> Choose another dataset on Socrata, download it using the API, and map the results. \n",
    "</div>"
   ]
  },
  {
   "cell_type": "markdown",
   "id": "bffeece0",
   "metadata": {},
   "source": [
    "The City of Los Angeles datasets are [here](https://data.lacity.org). Feel free to choose another city or county if you prefer.\n",
    "\n",
    "Some possible datasets of planning-related interest:\n",
    "* [DACA/DAPA workshops](https://data.lacity.org/Community-Economic-Development/Map2-DACA-DAPA-Workshops/icwt-9z3e) (seems a bit dated)\n",
    "* [Solar PV permits](https://data.lacity.org/A-Prosperous-City/Solar-PV-Permits-in-LA/bdt7-w2xr)\n",
    "* [Parks](https://data.lacity.org/Community-Economic-Development/Department-of-Recreation-and-Parks-Facility-and-Pa/ax8j-dhzm)"
   ]
  },
  {
   "cell_type": "code",
<<<<<<< Updated upstream
   "execution_count": 42,
   "id": "d141d6a8",
   "metadata": {},
   "outputs": [
    {
     "data": {
      "text/plain": [
       "<AxesSubplot:>"
      ]
     },
     "execution_count": 42,
     "metadata": {},
     "output_type": "execute_result"
    },
    {
     "data": {
      "image/png": "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\n",
      "text/plain": [
       "<Figure size 432x288 with 1 Axes>"
      ]
     },
     "metadata": {
      "needs_background": "light"
     },
     "output_type": "display_data"
    }
   ],
   "source": [
    "# your code here\n",
    "import geopandas as gpd\n",
    "url = 'https://data.lacity.org/resource/ax8j-dhzm.geojson'\n",
    "gdf = gpd.read_file(url)\n",
    "gdf.plot()\n",
    "\n",
    "# if cannot read geojson file, can input gpd.read_file? and see whether you rly need a url,\n",
    "# in this case you just can just put in the filename"
   ]
  },
  {
   "cell_type": "code",
   "execution_count": 43,
   "id": "4d7643ed",
   "metadata": {},
   "outputs": [],
   "source": [
    "gpd.read_file?"
=======
   "execution_count": null,
   "id": "d141d6a8",
   "metadata": {},
   "outputs": [],
   "source": [
    "# your code here"
>>>>>>> Stashed changes
   ]
  },
  {
   "cell_type": "markdown",
   "id": "a2818a26",
   "metadata": {},
   "source": [
    "<div class=\"alert alert-block alert-info\">\n",
    "<h3>What you should have learned</h3>\n",
    "<ul>\n",
    "  <li>Gain confidence in experimenting with code - exploring different objects, writing functions, and so on</li>\n",
    "  <li>Learn how to read API documentation and adapt the examples to create your own queries.</li>\n",
    "  <li>Gain confidence in mapping the results. We'll practice this much more throughout the quarter.</li>\n",
    "</ul>\n",
    "</div>"
   ]
  },
  {
   "cell_type": "code",
   "execution_count": null,
   "id": "0315d5ae",
   "metadata": {},
   "outputs": [],
   "source": []
  }
 ],
 "metadata": {
  "kernelspec": {
   "display_name": "Python 3 (ipykernel)",
   "language": "python",
   "name": "python3"
  },
  "language_info": {
   "codemirror_mode": {
    "name": "ipython",
    "version": 3
   },
   "file_extension": ".py",
   "mimetype": "text/x-python",
   "name": "python",
   "nbconvert_exporter": "python",
   "pygments_lexer": "ipython3",
   "version": "3.8.13"
  }
 },
 "nbformat": 4,
 "nbformat_minor": 5
}
